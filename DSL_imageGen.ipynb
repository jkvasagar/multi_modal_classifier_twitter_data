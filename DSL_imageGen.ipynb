{
  "cells": [
    {
      "cell_type": "code",
      "execution_count": null,
      "metadata": {
        "colab": {
          "base_uri": "https://localhost:8080/"
        },
        "id": "Og9q3G5vyCFg",
        "outputId": "79a11202-9cee-42e4-d0ba-bb1866ab0ba5"
      },
      "outputs": [
        {
          "output_type": "stream",
          "name": "stdout",
          "text": [
            "Mounted at /content/drive\n"
          ]
        }
      ],
      "source": [
        "from google.colab import drive\n",
        "drive.mount('/content/drive')"
      ]
    },
    {
      "cell_type": "code",
      "execution_count": null,
      "metadata": {
        "id": "iusJrrm4ybzD"
      },
      "outputs": [],
      "source": [
        "import pandas as pd\n",
        "import os.path as path\n",
        "import torch\n",
        "import torch.nn as nn\n",
        "import torchvision.models as models\n",
        "from torchvision import datasets, transforms\n",
        "from torch.utils.data import random_split, DataLoader, Dataset, TensorDataset\n",
        "from PIL import Image"
      ]
    },
    {
      "cell_type": "code",
      "execution_count": null,
      "metadata": {
        "colab": {
          "base_uri": "https://localhost:8080/",
          "height": 380
        },
        "id": "lmnvKUKf3wyj",
        "outputId": "adfe21b0-9713-45e5-8996-ea7e1f223dda"
      },
      "outputs": [
        {
          "output_type": "error",
          "ename": "FileNotFoundError",
          "evalue": "ignored",
          "traceback": [
            "\u001b[0;31m---------------------------------------------------------------------------\u001b[0m",
            "\u001b[0;31mFileNotFoundError\u001b[0m                         Traceback (most recent call last)",
            "\u001b[0;32m<ipython-input-5-9b671d6f8e59>\u001b[0m in \u001b[0;36m<cell line: 4>\u001b[0;34m()\u001b[0m\n\u001b[1;32m      2\u001b[0m \u001b[0mimage_path\u001b[0m \u001b[0;34m=\u001b[0m \u001b[0;34m'/content/drive/MyDrive/CrisisMMD_v2.0'\u001b[0m\u001b[0;34m\u001b[0m\u001b[0;34m\u001b[0m\u001b[0m\n\u001b[1;32m      3\u001b[0m \u001b[0;34m\u001b[0m\u001b[0m\n\u001b[0;32m----> 4\u001b[0;31m train_data = pd.read_csv(path.join(project_folder, \n\u001b[0m\u001b[1;32m      5\u001b[0m               'crisismmd_datasplit_all/task_informative_text_img_train.tsv'),\n\u001b[1;32m      6\u001b[0m               sep = '\\t')\n",
            "\u001b[0;32m/usr/local/lib/python3.10/dist-packages/pandas/util/_decorators.py\u001b[0m in \u001b[0;36mwrapper\u001b[0;34m(*args, **kwargs)\u001b[0m\n\u001b[1;32m    209\u001b[0m                 \u001b[0;32melse\u001b[0m\u001b[0;34m:\u001b[0m\u001b[0;34m\u001b[0m\u001b[0;34m\u001b[0m\u001b[0m\n\u001b[1;32m    210\u001b[0m                     \u001b[0mkwargs\u001b[0m\u001b[0;34m[\u001b[0m\u001b[0mnew_arg_name\u001b[0m\u001b[0;34m]\u001b[0m \u001b[0;34m=\u001b[0m \u001b[0mnew_arg_value\u001b[0m\u001b[0;34m\u001b[0m\u001b[0;34m\u001b[0m\u001b[0m\n\u001b[0;32m--> 211\u001b[0;31m             \u001b[0;32mreturn\u001b[0m \u001b[0mfunc\u001b[0m\u001b[0;34m(\u001b[0m\u001b[0;34m*\u001b[0m\u001b[0margs\u001b[0m\u001b[0;34m,\u001b[0m \u001b[0;34m**\u001b[0m\u001b[0mkwargs\u001b[0m\u001b[0;34m)\u001b[0m\u001b[0;34m\u001b[0m\u001b[0;34m\u001b[0m\u001b[0m\n\u001b[0m\u001b[1;32m    212\u001b[0m \u001b[0;34m\u001b[0m\u001b[0m\n\u001b[1;32m    213\u001b[0m         \u001b[0;32mreturn\u001b[0m \u001b[0mcast\u001b[0m\u001b[0;34m(\u001b[0m\u001b[0mF\u001b[0m\u001b[0;34m,\u001b[0m \u001b[0mwrapper\u001b[0m\u001b[0;34m)\u001b[0m\u001b[0;34m\u001b[0m\u001b[0;34m\u001b[0m\u001b[0m\n",
            "\u001b[0;32m/usr/local/lib/python3.10/dist-packages/pandas/util/_decorators.py\u001b[0m in \u001b[0;36mwrapper\u001b[0;34m(*args, **kwargs)\u001b[0m\n\u001b[1;32m    329\u001b[0m                     \u001b[0mstacklevel\u001b[0m\u001b[0;34m=\u001b[0m\u001b[0mfind_stack_level\u001b[0m\u001b[0;34m(\u001b[0m\u001b[0;34m)\u001b[0m\u001b[0;34m,\u001b[0m\u001b[0;34m\u001b[0m\u001b[0;34m\u001b[0m\u001b[0m\n\u001b[1;32m    330\u001b[0m                 )\n\u001b[0;32m--> 331\u001b[0;31m             \u001b[0;32mreturn\u001b[0m \u001b[0mfunc\u001b[0m\u001b[0;34m(\u001b[0m\u001b[0;34m*\u001b[0m\u001b[0margs\u001b[0m\u001b[0;34m,\u001b[0m \u001b[0;34m**\u001b[0m\u001b[0mkwargs\u001b[0m\u001b[0;34m)\u001b[0m\u001b[0;34m\u001b[0m\u001b[0;34m\u001b[0m\u001b[0m\n\u001b[0m\u001b[1;32m    332\u001b[0m \u001b[0;34m\u001b[0m\u001b[0m\n\u001b[1;32m    333\u001b[0m         \u001b[0;31m# error: \"Callable[[VarArg(Any), KwArg(Any)], Any]\" has no\u001b[0m\u001b[0;34m\u001b[0m\u001b[0;34m\u001b[0m\u001b[0m\n",
            "\u001b[0;32m/usr/local/lib/python3.10/dist-packages/pandas/io/parsers/readers.py\u001b[0m in \u001b[0;36mread_csv\u001b[0;34m(filepath_or_buffer, sep, delimiter, header, names, index_col, usecols, squeeze, prefix, mangle_dupe_cols, dtype, engine, converters, true_values, false_values, skipinitialspace, skiprows, skipfooter, nrows, na_values, keep_default_na, na_filter, verbose, skip_blank_lines, parse_dates, infer_datetime_format, keep_date_col, date_parser, dayfirst, cache_dates, iterator, chunksize, compression, thousands, decimal, lineterminator, quotechar, quoting, doublequote, escapechar, comment, encoding, encoding_errors, dialect, error_bad_lines, warn_bad_lines, on_bad_lines, delim_whitespace, low_memory, memory_map, float_precision, storage_options)\u001b[0m\n\u001b[1;32m    948\u001b[0m     \u001b[0mkwds\u001b[0m\u001b[0;34m.\u001b[0m\u001b[0mupdate\u001b[0m\u001b[0;34m(\u001b[0m\u001b[0mkwds_defaults\u001b[0m\u001b[0;34m)\u001b[0m\u001b[0;34m\u001b[0m\u001b[0;34m\u001b[0m\u001b[0m\n\u001b[1;32m    949\u001b[0m \u001b[0;34m\u001b[0m\u001b[0m\n\u001b[0;32m--> 950\u001b[0;31m     \u001b[0;32mreturn\u001b[0m \u001b[0m_read\u001b[0m\u001b[0;34m(\u001b[0m\u001b[0mfilepath_or_buffer\u001b[0m\u001b[0;34m,\u001b[0m \u001b[0mkwds\u001b[0m\u001b[0;34m)\u001b[0m\u001b[0;34m\u001b[0m\u001b[0;34m\u001b[0m\u001b[0m\n\u001b[0m\u001b[1;32m    951\u001b[0m \u001b[0;34m\u001b[0m\u001b[0m\n\u001b[1;32m    952\u001b[0m \u001b[0;34m\u001b[0m\u001b[0m\n",
            "\u001b[0;32m/usr/local/lib/python3.10/dist-packages/pandas/io/parsers/readers.py\u001b[0m in \u001b[0;36m_read\u001b[0;34m(filepath_or_buffer, kwds)\u001b[0m\n\u001b[1;32m    603\u001b[0m \u001b[0;34m\u001b[0m\u001b[0m\n\u001b[1;32m    604\u001b[0m     \u001b[0;31m# Create the parser.\u001b[0m\u001b[0;34m\u001b[0m\u001b[0;34m\u001b[0m\u001b[0m\n\u001b[0;32m--> 605\u001b[0;31m     \u001b[0mparser\u001b[0m \u001b[0;34m=\u001b[0m \u001b[0mTextFileReader\u001b[0m\u001b[0;34m(\u001b[0m\u001b[0mfilepath_or_buffer\u001b[0m\u001b[0;34m,\u001b[0m \u001b[0;34m**\u001b[0m\u001b[0mkwds\u001b[0m\u001b[0;34m)\u001b[0m\u001b[0;34m\u001b[0m\u001b[0;34m\u001b[0m\u001b[0m\n\u001b[0m\u001b[1;32m    606\u001b[0m \u001b[0;34m\u001b[0m\u001b[0m\n\u001b[1;32m    607\u001b[0m     \u001b[0;32mif\u001b[0m \u001b[0mchunksize\u001b[0m \u001b[0;32mor\u001b[0m \u001b[0miterator\u001b[0m\u001b[0;34m:\u001b[0m\u001b[0;34m\u001b[0m\u001b[0;34m\u001b[0m\u001b[0m\n",
            "\u001b[0;32m/usr/local/lib/python3.10/dist-packages/pandas/io/parsers/readers.py\u001b[0m in \u001b[0;36m__init__\u001b[0;34m(self, f, engine, **kwds)\u001b[0m\n\u001b[1;32m   1440\u001b[0m \u001b[0;34m\u001b[0m\u001b[0m\n\u001b[1;32m   1441\u001b[0m         \u001b[0mself\u001b[0m\u001b[0;34m.\u001b[0m\u001b[0mhandles\u001b[0m\u001b[0;34m:\u001b[0m \u001b[0mIOHandles\u001b[0m \u001b[0;34m|\u001b[0m \u001b[0;32mNone\u001b[0m \u001b[0;34m=\u001b[0m \u001b[0;32mNone\u001b[0m\u001b[0;34m\u001b[0m\u001b[0;34m\u001b[0m\u001b[0m\n\u001b[0;32m-> 1442\u001b[0;31m         \u001b[0mself\u001b[0m\u001b[0;34m.\u001b[0m\u001b[0m_engine\u001b[0m \u001b[0;34m=\u001b[0m \u001b[0mself\u001b[0m\u001b[0;34m.\u001b[0m\u001b[0m_make_engine\u001b[0m\u001b[0;34m(\u001b[0m\u001b[0mf\u001b[0m\u001b[0;34m,\u001b[0m \u001b[0mself\u001b[0m\u001b[0;34m.\u001b[0m\u001b[0mengine\u001b[0m\u001b[0;34m)\u001b[0m\u001b[0;34m\u001b[0m\u001b[0;34m\u001b[0m\u001b[0m\n\u001b[0m\u001b[1;32m   1443\u001b[0m \u001b[0;34m\u001b[0m\u001b[0m\n\u001b[1;32m   1444\u001b[0m     \u001b[0;32mdef\u001b[0m \u001b[0mclose\u001b[0m\u001b[0;34m(\u001b[0m\u001b[0mself\u001b[0m\u001b[0;34m)\u001b[0m \u001b[0;34m->\u001b[0m \u001b[0;32mNone\u001b[0m\u001b[0;34m:\u001b[0m\u001b[0;34m\u001b[0m\u001b[0;34m\u001b[0m\u001b[0m\n",
            "\u001b[0;32m/usr/local/lib/python3.10/dist-packages/pandas/io/parsers/readers.py\u001b[0m in \u001b[0;36m_make_engine\u001b[0;34m(self, f, engine)\u001b[0m\n\u001b[1;32m   1733\u001b[0m                 \u001b[0;32mif\u001b[0m \u001b[0;34m\"b\"\u001b[0m \u001b[0;32mnot\u001b[0m \u001b[0;32min\u001b[0m \u001b[0mmode\u001b[0m\u001b[0;34m:\u001b[0m\u001b[0;34m\u001b[0m\u001b[0;34m\u001b[0m\u001b[0m\n\u001b[1;32m   1734\u001b[0m                     \u001b[0mmode\u001b[0m \u001b[0;34m+=\u001b[0m \u001b[0;34m\"b\"\u001b[0m\u001b[0;34m\u001b[0m\u001b[0;34m\u001b[0m\u001b[0m\n\u001b[0;32m-> 1735\u001b[0;31m             self.handles = get_handle(\n\u001b[0m\u001b[1;32m   1736\u001b[0m                 \u001b[0mf\u001b[0m\u001b[0;34m,\u001b[0m\u001b[0;34m\u001b[0m\u001b[0;34m\u001b[0m\u001b[0m\n\u001b[1;32m   1737\u001b[0m                 \u001b[0mmode\u001b[0m\u001b[0;34m,\u001b[0m\u001b[0;34m\u001b[0m\u001b[0;34m\u001b[0m\u001b[0m\n",
            "\u001b[0;32m/usr/local/lib/python3.10/dist-packages/pandas/io/common.py\u001b[0m in \u001b[0;36mget_handle\u001b[0;34m(path_or_buf, mode, encoding, compression, memory_map, is_text, errors, storage_options)\u001b[0m\n\u001b[1;32m    854\u001b[0m         \u001b[0;32mif\u001b[0m \u001b[0mioargs\u001b[0m\u001b[0;34m.\u001b[0m\u001b[0mencoding\u001b[0m \u001b[0;32mand\u001b[0m \u001b[0;34m\"b\"\u001b[0m \u001b[0;32mnot\u001b[0m \u001b[0;32min\u001b[0m \u001b[0mioargs\u001b[0m\u001b[0;34m.\u001b[0m\u001b[0mmode\u001b[0m\u001b[0;34m:\u001b[0m\u001b[0;34m\u001b[0m\u001b[0;34m\u001b[0m\u001b[0m\n\u001b[1;32m    855\u001b[0m             \u001b[0;31m# Encoding\u001b[0m\u001b[0;34m\u001b[0m\u001b[0;34m\u001b[0m\u001b[0m\n\u001b[0;32m--> 856\u001b[0;31m             handle = open(\n\u001b[0m\u001b[1;32m    857\u001b[0m                 \u001b[0mhandle\u001b[0m\u001b[0;34m,\u001b[0m\u001b[0;34m\u001b[0m\u001b[0;34m\u001b[0m\u001b[0m\n\u001b[1;32m    858\u001b[0m                 \u001b[0mioargs\u001b[0m\u001b[0;34m.\u001b[0m\u001b[0mmode\u001b[0m\u001b[0;34m,\u001b[0m\u001b[0;34m\u001b[0m\u001b[0;34m\u001b[0m\u001b[0m\n",
            "\u001b[0;31mFileNotFoundError\u001b[0m: [Errno 2] No such file or directory: '/content/drive/MyDrive/CrisisMMD_v2.0/crisismmd_datasplit_all/task_informative_text_img_train.tsv'"
          ]
        }
      ],
      "source": [
        "project_folder = '/content/drive/MyDrive/CrisisMMD_v2.0'\n",
        "image_path = '/content/drive/MyDrive/CrisisMMD_v2.0'\n",
        "\n",
        "train_data = pd.read_csv(path.join(project_folder,\n",
        "              'crisismmd_datasplit_all/task_informative_text_img_train.tsv'),\n",
        "              sep = '\\t')\n",
        "test_data = pd.read_csv(path.join(project_folder,\n",
        "              'crisismmd_datasplit_all/task_informative_text_img_test.tsv'),\n",
        "              sep = '\\t')\n",
        "dev_data = pd.read_csv(path.join(project_folder,\n",
        "              'crisismmd_datasplit_all/task_informative_text_img_dev.tsv'),\n",
        "              sep = '\\t')\n",
        "\n",
        "print(train_data.head())"
      ]
    },
    {
      "cell_type": "code",
      "execution_count": null,
      "metadata": {
        "id": "gFsSc8IwP7qo",
        "colab": {
          "base_uri": "https://localhost:8080/",
          "height": 235
        },
        "outputId": "c8ece90e-ddf2-4911-d30b-80ee52296ea8"
      },
      "outputs": [
        {
          "output_type": "error",
          "ename": "NameError",
          "evalue": "ignored",
          "traceback": [
            "\u001b[0;31m---------------------------------------------------------------------------\u001b[0m",
            "\u001b[0;31mNameError\u001b[0m                                 Traceback (most recent call last)",
            "\u001b[0;32m<ipython-input-3-7cbbde0e78da>\u001b[0m in \u001b[0;36m<cell line: 6>\u001b[0;34m()\u001b[0m\n\u001b[1;32m      4\u001b[0m     \u001b[0;32mreturn\u001b[0m \u001b[0mlabels_dict\u001b[0m\u001b[0;34m.\u001b[0m\u001b[0mget\u001b[0m\u001b[0;34m(\u001b[0m\u001b[0mstring\u001b[0m\u001b[0;34m,\u001b[0m \u001b[0;34m-\u001b[0m\u001b[0;36m1\u001b[0m\u001b[0;34m)\u001b[0m  \u001b[0;31m# return -1 for unknown labels\u001b[0m\u001b[0;34m\u001b[0m\u001b[0;34m\u001b[0m\u001b[0m\n\u001b[1;32m      5\u001b[0m \u001b[0;34m\u001b[0m\u001b[0m\n\u001b[0;32m----> 6\u001b[0;31m \u001b[0mtrain_data\u001b[0m\u001b[0;34m[\u001b[0m\u001b[0;34m'label_image'\u001b[0m\u001b[0;34m]\u001b[0m \u001b[0;34m=\u001b[0m \u001b[0mtrain_data\u001b[0m\u001b[0;34m[\u001b[0m\u001b[0;34m'label_image'\u001b[0m\u001b[0;34m]\u001b[0m\u001b[0;34m.\u001b[0m\u001b[0mapply\u001b[0m\u001b[0;34m(\u001b[0m\u001b[0mconvert_label\u001b[0m\u001b[0;34m)\u001b[0m\u001b[0;34m\u001b[0m\u001b[0;34m\u001b[0m\u001b[0m\n\u001b[0m\u001b[1;32m      7\u001b[0m \u001b[0mtest_data\u001b[0m\u001b[0;34m[\u001b[0m\u001b[0;34m'label_image'\u001b[0m\u001b[0;34m]\u001b[0m \u001b[0;34m=\u001b[0m \u001b[0mtest_data\u001b[0m\u001b[0;34m[\u001b[0m\u001b[0;34m'label_image'\u001b[0m\u001b[0;34m]\u001b[0m\u001b[0;34m.\u001b[0m\u001b[0mapply\u001b[0m\u001b[0;34m(\u001b[0m\u001b[0mconvert_label\u001b[0m\u001b[0;34m)\u001b[0m\u001b[0;34m\u001b[0m\u001b[0;34m\u001b[0m\u001b[0m\n\u001b[1;32m      8\u001b[0m \u001b[0mdev_data\u001b[0m\u001b[0;34m[\u001b[0m\u001b[0;34m'label_image'\u001b[0m\u001b[0;34m]\u001b[0m \u001b[0;34m=\u001b[0m \u001b[0mdev_data\u001b[0m\u001b[0;34m[\u001b[0m\u001b[0;34m'label_image'\u001b[0m\u001b[0;34m]\u001b[0m\u001b[0;34m.\u001b[0m\u001b[0mapply\u001b[0m\u001b[0;34m(\u001b[0m\u001b[0mconvert_label\u001b[0m\u001b[0;34m)\u001b[0m\u001b[0;34m\u001b[0m\u001b[0;34m\u001b[0m\u001b[0m\n",
            "\u001b[0;31mNameError\u001b[0m: name 'train_data' is not defined"
          ]
        }
      ],
      "source": [
        "labels_dict = {'informative': 1, 'not_informative':0}\n",
        "\n",
        "def convert_label(string):\n",
        "    return labels_dict.get(string, -1)  # return -1 for unknown labels\n",
        "\n",
        "train_data['label_image'] = train_data['label_image'].apply(convert_label)\n",
        "test_data['label_image'] = test_data['label_image'].apply(convert_label)\n",
        "dev_data['label_image'] = dev_data['label_image'].apply(convert_label)"
      ]
    },
    {
      "cell_type": "code",
      "execution_count": null,
      "metadata": {
        "id": "udpRtT0xYHWe"
      },
      "outputs": [],
      "source": [
        "IMAGE_WIDTH = 224\n",
        "IMAGE_HEIGHT = 224\n",
        "\n",
        "# define the transformations to be applied to the dataset\n",
        "transform = transforms.Compose([\n",
        "    transforms.Resize((IMAGE_HEIGHT, IMAGE_HEIGHT)),\n",
        "    transforms.ToTensor(),\n",
        "    transforms.Normalize([0.485, 0.456, 0.406], [0.229, 0.224, 0.225])\n",
        "])"
      ]
    },
    {
      "cell_type": "markdown",
      "metadata": {
        "id": "rQHPU-Y3N0T8"
      },
      "source": [
        "# Image model"
      ]
    },
    {
      "cell_type": "markdown",
      "metadata": {
        "id": "XflPWs9gOzlp"
      },
      "source": [
        "## Hyper parameters"
      ]
    },
    {
      "cell_type": "code",
      "execution_count": null,
      "metadata": {
        "id": "afXkeZ_rOzHc"
      },
      "outputs": [],
      "source": [
        "BATCH_SIZE = 32\n",
        "LEARNING_RATE = 0.001\n",
        "NUM_EPOCH = 4\n"
      ]
    },
    {
      "cell_type": "markdown",
      "metadata": {
        "id": "3uObDU9YO_ln"
      },
      "source": [
        "## Data loader"
      ]
    },
    {
      "cell_type": "code",
      "execution_count": null,
      "metadata": {
        "id": "oAcSV1Vn4Kwn"
      },
      "outputs": [],
      "source": [
        "class ImageDataset(Dataset):\n",
        "    def __init__(self, data_set, image_dir = image_path, transform = None):\n",
        "        self.image_dir = image_dir\n",
        "        self.data = data_set\n",
        "        self.transform = transform\n",
        "\n",
        "    def __getitem__(self, index):\n",
        "        row = self.data.iloc[index]\n",
        "        image_path = path.join(self.image_dir, row['image'])\n",
        "        label = row['label_image']\n",
        "\n",
        "        # Load Image\n",
        "        image = Image.open(image_path)\n",
        "        image = image.resize((IMAGE_WIDTH, IMAGE_HEIGHT))\n",
        "        image = image.convert('RGB')\n",
        "\n",
        "        label_tensor = torch.tensor(label)\n",
        "        image = self.transform(image)\n",
        "        return (image, label_tensor)\n",
        "\n",
        "    def __len__(self):\n",
        "        return len(self.data)\n",
        "\n",
        "\n",
        "train_data = ImageDataset(train_data, image_dir = image_path, transform = transform)\n",
        "test_data = ImageDataset(test_data, image_dir = image_path, transform = transform)\n",
        "dev_data = ImageDataset(dev_data, image_dir = image_path, transform = transform)\n"
      ]
    },
    {
      "cell_type": "markdown",
      "metadata": {
        "id": "d3C2AB75PDZF"
      },
      "source": [
        "## Image model definition"
      ]
    },
    {
      "cell_type": "code",
      "execution_count": null,
      "metadata": {
        "colab": {
          "base_uri": "https://localhost:8080/"
        },
        "id": "GcKPWQLgRV5G",
        "outputId": "2ac5fafe-3add-4563-d25e-e1f90391df0b"
      },
      "outputs": [
        {
          "name": "stdout",
          "output_type": "stream",
          "text": [
            "cuda:0\n"
          ]
        }
      ],
      "source": [
        "device = torch.device(\"cuda:0\" if torch.cuda.is_available() else \"cpu\")\n",
        "print(device)"
      ]
    },
    {
      "cell_type": "code",
      "execution_count": null,
      "metadata": {
        "id": "KOLv4chcolyl"
      },
      "outputs": [],
      "source": [
        "class ResNetWithFC(nn.Module):\n",
        "    def __init__(self, num_classes=1000, fc_hidden_dim=512):\n",
        "        super(ResNetWithFC, self).__init__()\n",
        "        self.resnet = models.resnet50(pretrained=True)\n",
        "        self.fc1 = nn.Linear(2048, fc_hidden_dim)\n",
        "        self.fc2 = nn.Linear(fc_hidden_dim, num_classes)\n",
        "        self.softmax = nn.Softmax(dim=1)\n",
        "\n",
        "    def forward(self, x):\n",
        "        x = self.resnet.conv1(x)\n",
        "        x = self.resnet.bn1(x)\n",
        "        x = self.resnet.relu(x)\n",
        "        x = self.resnet.maxpool(x)\n",
        "\n",
        "        x = self.resnet.layer1(x)\n",
        "        x = self.resnet.layer2(x)\n",
        "        x = self.resnet.layer3(x)\n",
        "        x = self.resnet.layer4(x)\n",
        "\n",
        "        x = self.resnet.avgpool(x)\n",
        "        x = torch.flatten(x, 1)\n",
        "        x = self.fc1(x)\n",
        "        x = self.fc2(x)\n",
        "        x = self.softmax(x)\n",
        "\n",
        "        return x"
      ]
    },
    {
      "cell_type": "code",
      "execution_count": null,
      "metadata": {
        "colab": {
          "background_save": true,
          "base_uri": "https://localhost:8080/"
        },
        "id": "2pu8BJmKPHkj",
        "outputId": "df25cdc2-87ec-4286-c31a-9cd08c75a260"
      },
      "outputs": [
        {
          "name": "stderr",
          "output_type": "stream",
          "text": [
            "/usr/local/lib/python3.10/dist-packages/torchvision/models/_utils.py:208: UserWarning: The parameter 'pretrained' is deprecated since 0.13 and may be removed in the future, please use 'weights' instead.\n",
            "  warnings.warn(\n",
            "/usr/local/lib/python3.10/dist-packages/torchvision/models/_utils.py:223: UserWarning: Arguments other than a weight enum or `None` for 'weights' are deprecated since 0.13 and may be removed in the future. The current behavior is equivalent to passing `weights=ResNet50_Weights.IMAGENET1K_V1`. You can also use `weights=ResNet50_Weights.DEFAULT` to get the most up-to-date weights.\n",
            "  warnings.warn(msg)\n",
            "Downloading: \"https://download.pytorch.org/models/resnet50-0676ba61.pth\" to /root/.cache/torch/hub/checkpoints/resnet50-0676ba61.pth\n",
            "100%|██████████| 97.8M/97.8M [00:00<00:00, 346MB/s]\n"
          ]
        },
        {
          "name": "stdout",
          "output_type": "stream",
          "text": [
            "___________Training_______________\n"
          ]
        },
        {
          "name": "stderr",
          "output_type": "stream",
          "text": [
            "/usr/local/lib/python3.10/dist-packages/PIL/Image.py:975: UserWarning: Palette images with Transparency expressed in bytes should be converted to RGBA images\n",
            "  warnings.warn(\n"
          ]
        },
        {
          "name": "stdout",
          "output_type": "stream",
          "text": [
            "___________Eval_____________\n"
          ]
        },
        {
          "name": "stderr",
          "output_type": "stream",
          "text": [
            "/usr/local/lib/python3.10/dist-packages/PIL/Image.py:975: UserWarning: Palette images with Transparency expressed in bytes should be converted to RGBA images\n",
            "  warnings.warn(\n"
          ]
        },
        {
          "name": "stdout",
          "output_type": "stream",
          "text": [
            "Epoch 1/5 - Train Loss: 0.5631, Train Acc: 0.7357, Test Loss: 0.4937, Test Acc: 0.8122\n",
            "___________Training_______________\n"
          ]
        },
        {
          "name": "stderr",
          "output_type": "stream",
          "text": [
            "/usr/local/lib/python3.10/dist-packages/PIL/Image.py:975: UserWarning: Palette images with Transparency expressed in bytes should be converted to RGBA images\n",
            "  warnings.warn(\n"
          ]
        },
        {
          "name": "stdout",
          "output_type": "stream",
          "text": [
            "___________Eval_____________\n"
          ]
        },
        {
          "name": "stderr",
          "output_type": "stream",
          "text": [
            "/usr/local/lib/python3.10/dist-packages/PIL/Image.py:975: UserWarning: Palette images with Transparency expressed in bytes should be converted to RGBA images\n",
            "  warnings.warn(\n"
          ]
        },
        {
          "name": "stdout",
          "output_type": "stream",
          "text": [
            "Epoch 2/5 - Train Loss: 0.5126, Train Acc: 0.7928, Test Loss: 0.5194, Test Acc: 0.7827\n",
            "___________Training_______________\n"
          ]
        },
        {
          "name": "stderr",
          "output_type": "stream",
          "text": [
            "/usr/local/lib/python3.10/dist-packages/PIL/Image.py:975: UserWarning: Palette images with Transparency expressed in bytes should be converted to RGBA images\n",
            "  warnings.warn(\n"
          ]
        },
        {
          "name": "stdout",
          "output_type": "stream",
          "text": [
            "___________Eval_____________\n"
          ]
        },
        {
          "name": "stderr",
          "output_type": "stream",
          "text": [
            "/usr/local/lib/python3.10/dist-packages/PIL/Image.py:975: UserWarning: Palette images with Transparency expressed in bytes should be converted to RGBA images\n",
            "  warnings.warn(\n"
          ]
        },
        {
          "name": "stdout",
          "output_type": "stream",
          "text": [
            "Epoch 3/5 - Train Loss: 0.4895, Train Acc: 0.8169, Test Loss: 0.5016, Test Acc: 0.8082\n",
            "___________Training_______________\n"
          ]
        },
        {
          "name": "stderr",
          "output_type": "stream",
          "text": [
            "/usr/local/lib/python3.10/dist-packages/PIL/Image.py:975: UserWarning: Palette images with Transparency expressed in bytes should be converted to RGBA images\n",
            "  warnings.warn(\n"
          ]
        },
        {
          "name": "stdout",
          "output_type": "stream",
          "text": [
            "___________Eval_____________\n"
          ]
        },
        {
          "name": "stderr",
          "output_type": "stream",
          "text": [
            "/usr/local/lib/python3.10/dist-packages/PIL/Image.py:975: UserWarning: Palette images with Transparency expressed in bytes should be converted to RGBA images\n",
            "  warnings.warn(\n"
          ]
        },
        {
          "name": "stdout",
          "output_type": "stream",
          "text": [
            "Epoch 4/5 - Train Loss: 0.4724, Train Acc: 0.8359, Test Loss: 0.5037, Test Acc: 0.8006\n",
            "___________Training_______________\n"
          ]
        },
        {
          "name": "stderr",
          "output_type": "stream",
          "text": [
            "/usr/local/lib/python3.10/dist-packages/PIL/Image.py:975: UserWarning: Palette images with Transparency expressed in bytes should be converted to RGBA images\n",
            "  warnings.warn(\n"
          ]
        },
        {
          "name": "stdout",
          "output_type": "stream",
          "text": [
            "___________Eval_____________\n"
          ]
        },
        {
          "name": "stderr",
          "output_type": "stream",
          "text": [
            "/usr/local/lib/python3.10/dist-packages/PIL/Image.py:975: UserWarning: Palette images with Transparency expressed in bytes should be converted to RGBA images\n",
            "  warnings.warn(\n"
          ]
        },
        {
          "name": "stdout",
          "output_type": "stream",
          "text": [
            "Epoch 5/5 - Train Loss: 0.4594, Train Acc: 0.8498, Test Loss: 0.5337, Test Acc: 0.7702\n",
            "Linear(in_features=512, out_features=2, bias=True)\n"
          ]
        }
      ],
      "source": [
        "resnet = ResNetWithFC(2, 512)\n",
        "BATCH_SIZE = 32\n",
        "LEARNING_RATE = 0.0001\n",
        "NUM_EPOCH = 5\n",
        "\n",
        "resnet.load_state_dict(path.join(project_folder, 'models', 'image.pth'))\n",
        "resnet.to(device)\n",
        "\n",
        "train_loader = DataLoader(train_data, batch_size=BATCH_SIZE,\n",
        "                          shuffle=False, num_workers=2, pin_memory = True)\n",
        "\n",
        "test_loader = DataLoader(test_data, batch_size=BATCH_SIZE,\n",
        "                          shuffle=True, num_workers=2, pin_memory = True)\n",
        "\n",
        "\n",
        "# Define loss function and optimizer\n",
        "criterion = nn.CrossEntropyLoss()\n",
        "optimizer = torch.optim.Adam(resnet.parameters(), lr=LEARNING_RATE)\n",
        "\n",
        "for epoch in range(NUM_EPOCH):\n",
        "    # # Train the model for one epoch\n",
        "    # resnet.train()\n",
        "    # print(\"___________Training_______________\")\n",
        "    # train_loss = 0.0\n",
        "    # train_acc = 0.0\n",
        "    # for images, labels in train_loader:\n",
        "    #     images = images.to(device)\n",
        "    #     labels = labels.type(torch.LongTensor)\n",
        "    #     labels = labels.to(device)\n",
        "    #     optimizer.zero_grad()\n",
        "    #     outputs = resnet(images)\n",
        "    #     loss = criterion(outputs, labels)\n",
        "    #     loss.backward()\n",
        "    #     optimizer.step()\n",
        "    #     train_loss += loss.item() * images.size(0)\n",
        "    #     _, preds = torch.max(outputs, 1)\n",
        "    #     train_acc += torch.sum(preds == labels.data)\n",
        "    # train_loss = train_loss / len(train_loader.dataset)\n",
        "    # train_acc = train_acc.double() / len(train_loader.dataset)\n",
        "\n",
        "    # Evaluate the model on the test set\n",
        "    resnet.eval()\n",
        "    print(\"___________Eval_____________\")\n",
        "    test_loss = 0.0\n",
        "    test_acc = 0.0\n",
        "    with torch.no_grad():\n",
        "      for images, labels in test_loader:\n",
        "        images = images.to(device)\n",
        "        labels = labels.type(torch.LongTensor)\n",
        "        labels = labels.to(device)\n",
        "        outputs = resnet(images)\n",
        "        loss = criterion(outputs, labels)\n",
        "        test_loss += loss.item() * images.size(0)\n",
        "        _, preds = torch.max(outputs, 1)\n",
        "        test_acc += torch.sum(preds == labels.data)\n",
        "    test_loss = test_loss / len(test_loader.dataset)\n",
        "    test_acc = test_acc.double() / len(test_loader.dataset)\n",
        "\n",
        "    # Print the training and test accuracy and loss for this epoch\n",
        "    print('Epoch {}/{} - Train Loss: {:.4f}, Train Acc: {:.4f}, Test Loss: {:.4f}, Test Acc: {:.4f}'\n",
        "      .format(epoch + 1, NUM_EPOCH, train_loss, train_acc, test_loss, test_acc))\n",
        "\n",
        "print(resnet.fc2)"
      ]
    },
    {
      "cell_type": "code",
      "execution_count": null,
      "metadata": {
        "colab": {
          "base_uri": "https://localhost:8080/"
        },
        "id": "Cz_77SlZRZAK",
        "outputId": "7e6c1740-873f-4677-9171-88e6bd34f1cd"
      },
      "outputs": [
        {
          "name": "stdout",
          "output_type": "stream",
          "text": [
            "\n"
          ]
        }
      ],
      "source": [
        "# Saving the trained model\n",
        "model_path = path.join(project_folder, 'models', 'image.pth')\n",
        "torch.save(resnet.state_dict(), model_path)"
      ]
    },
    {
      "cell_type": "markdown",
      "metadata": {
        "id": "VQ-3-2s-Y6kZ"
      },
      "source": [
        "# Text model"
      ]
    },
    {
      "cell_type": "code",
      "execution_count": null,
      "metadata": {
        "colab": {
          "base_uri": "https://localhost:8080/"
        },
        "id": "Yuu2dINqY5_d",
        "outputId": "e4a98ee4-c5b6-4898-ae31-b8790392e9e7"
      },
      "outputs": [
        {
          "name": "stderr",
          "output_type": "stream",
          "text": [
            "Some weights of the model checkpoint at bert-base-uncased were not used when initializing BertForSequenceClassification: ['cls.predictions.transform.LayerNorm.bias', 'cls.predictions.transform.dense.weight', 'cls.seq_relationship.weight', 'cls.predictions.decoder.weight', 'cls.predictions.bias', 'cls.seq_relationship.bias', 'cls.predictions.transform.dense.bias', 'cls.predictions.transform.LayerNorm.weight']\n",
            "- This IS expected if you are initializing BertForSequenceClassification from the checkpoint of a model trained on another task or with another architecture (e.g. initializing a BertForSequenceClassification model from a BertForPreTraining model).\n",
            "- This IS NOT expected if you are initializing BertForSequenceClassification from the checkpoint of a model that you expect to be exactly identical (initializing a BertForSequenceClassification model from a BertForSequenceClassification model).\n",
            "Some weights of BertForSequenceClassification were not initialized from the model checkpoint at bert-base-uncased and are newly initialized: ['classifier.bias', 'classifier.weight']\n",
            "You should probably TRAIN this model on a down-stream task to be able to use it for predictions and inference.\n"
          ]
        }
      ],
      "source": [
        "#!pip install transformers\n",
        "from transformers import AdamW, BertConfig\n",
        "import torch\n",
        "import math\n",
        "import transformers\n",
        "from transformers import BertForSequenceClassification\n",
        "import numpy as np\n",
        "\n",
        "tokenizer = transformers.BertTokenizer.from_pretrained('bert-base-uncased',\n",
        "                                                       do_lower_case=True)\n",
        "model_bert = BertForSequenceClassification.from_pretrained('bert-base-uncased',\n",
        "                                                           num_labels=2,\n",
        "                                                           output_attentions=False,\n",
        "                                                           output_hidden_states=False)"
      ]
    },
    {
      "cell_type": "code",
      "execution_count": null,
      "metadata": {
        "colab": {
          "base_uri": "https://localhost:8080/"
        },
        "id": "YJHh9KmSZfTc",
        "outputId": "066c3445-2f8e-42e4-c183-1de17aa075a1"
      },
      "outputs": [
        {
          "name": "stderr",
          "output_type": "stream",
          "text": [
            "Truncation was not explicitly activated but `max_length` is provided a specific value, please use `truncation=True` to explicitly truncate examples to max length. Defaulting to 'longest_first' truncation strategy. If you encode pairs of sequences (GLUE-style) with the tokenizer you can select this strategy more precisely by providing a specific strategy to `truncation`.\n",
            "/usr/local/lib/python3.10/dist-packages/transformers/tokenization_utils_base.py:2354: FutureWarning: The `pad_to_max_length` argument is deprecated and will be removed in a future version, use `padding=True` or `padding='longest'` to pad to the longest sequence in the batch, or use `padding='max_length'` to pad to a max length. In this case, you can give a specific length with `max_length` (e.g. `max_length=45`) or leave max_length to None to pad to the maximal input size of the model (e.g. 512 for Bert).\n",
            "  warnings.warn(\n"
          ]
        }
      ],
      "source": [
        "train_data['label_text'] = train_data['label_text'].apply(convert_label)\n",
        "test_data['label_text'] = test_data['label_text'].apply(convert_label)\n",
        "dev_data['label_text'] = dev_data['label_text'].apply(convert_label)\n",
        "\n",
        "tokenizer = transformers.BertTokenizer.from_pretrained('bert-base-uncased',\n",
        "                                                       do_lower_case=True)\n",
        "def get_tensor_dataset(dataset):\n",
        "  sentences = dataset.tweet_text.values\n",
        "  labels = dataset.label_text.values\n",
        "\n",
        "  input_ids=[]\n",
        "  attention_masks=[]\n",
        "  for sent in sentences:\n",
        "      encoded_dict = tokenizer.encode_plus(sent, add_special_tokens=True,\n",
        "                                          max_length=64, pad_to_max_length=True,\n",
        "                                          return_attention_mask=True,\n",
        "                                          return_tensors='pt' )\n",
        "      input_ids.append(encoded_dict['input_ids'])\n",
        "      attention_masks.append(encoded_dict['attention_mask'])\n",
        "  input_ids=torch.cat(input_ids,dim=0)\n",
        "  attention_masks=torch.cat(attention_masks,dim=0)\n",
        "  labels = torch.tensor(labels)\n",
        "  data_set = TensorDataset(input_ids,attention_masks,labels)\n",
        "  return data_set\n",
        "\n",
        "train_set = get_tensor_dataset(train_data)\n",
        "test_set = get_tensor_dataset(test_data)\n",
        "dev_set = get_tensor_dataset(dev_data)\n"
      ]
    },
    {
      "cell_type": "code",
      "execution_count": null,
      "metadata": {
        "colab": {
          "base_uri": "https://localhost:8080/"
        },
        "id": "vaE8EwGRcRp7",
        "outputId": "f58b11d3-f847-4fff-b640-6bb6f4948d3f"
      },
      "outputs": [
        {
          "name": "stderr",
          "output_type": "stream",
          "text": [
            "/usr/local/lib/python3.10/dist-packages/transformers/optimization.py:391: FutureWarning: This implementation of AdamW is deprecated and will be removed in a future version. Use the PyTorch implementation torch.optim.AdamW instead, or set `no_deprecation_warning=True` to disable this warning\n",
            "  warnings.warn(\n"
          ]
        }
      ],
      "source": [
        "from  transformers import get_linear_schedule_with_warmup\n",
        "from torch.utils.data import DataLoader, RandomSampler, SequentialSampler\n",
        "\n",
        "epochs=4\n",
        "batch_size = 32\n",
        "train_dataloader = DataLoader(train_set, sampler=RandomSampler(train_set),batch_size=batch_size)\n",
        "\n",
        "val_dataloader = DataLoader(dev_set, sampler=SequentialSampler(dev_set),batch_size=batch_size)\n",
        "\n",
        "optimizer = AdamW(model_bert.parameters(),lr=5e-5)\n",
        "\n",
        "total_steps= len(train_dataloader)*epochs\n",
        "\n",
        "scheduler = get_linear_schedule_with_warmup(optimizer,num_warmup_steps=0,num_training_steps=total_steps)\n",
        "\n",
        "def flat_accuracy(preds,labels):\n",
        "    pred_flat = np.argmax(preds,axis=1).flatten()\n",
        "    labels_flat = labels.flatten()\n",
        "    return np.sum(pred_flat == labels_flat)/len(labels_flat)"
      ]
    },
    {
      "cell_type": "code",
      "execution_count": null,
      "metadata": {
        "colab": {
          "base_uri": "https://localhost:8080/"
        },
        "id": "MIayIVhvjrvn",
        "outputId": "f7e885b8-d146-486c-fb35-fe296813bba9"
      },
      "outputs": [
        {
          "data": {
            "text/plain": [
              "BertForSequenceClassification(\n",
              "  (bert): BertModel(\n",
              "    (embeddings): BertEmbeddings(\n",
              "      (word_embeddings): Embedding(30522, 768, padding_idx=0)\n",
              "      (position_embeddings): Embedding(512, 768)\n",
              "      (token_type_embeddings): Embedding(2, 768)\n",
              "      (LayerNorm): LayerNorm((768,), eps=1e-12, elementwise_affine=True)\n",
              "      (dropout): Dropout(p=0.1, inplace=False)\n",
              "    )\n",
              "    (encoder): BertEncoder(\n",
              "      (layer): ModuleList(\n",
              "        (0-11): 12 x BertLayer(\n",
              "          (attention): BertAttention(\n",
              "            (self): BertSelfAttention(\n",
              "              (query): Linear(in_features=768, out_features=768, bias=True)\n",
              "              (key): Linear(in_features=768, out_features=768, bias=True)\n",
              "              (value): Linear(in_features=768, out_features=768, bias=True)\n",
              "              (dropout): Dropout(p=0.1, inplace=False)\n",
              "            )\n",
              "            (output): BertSelfOutput(\n",
              "              (dense): Linear(in_features=768, out_features=768, bias=True)\n",
              "              (LayerNorm): LayerNorm((768,), eps=1e-12, elementwise_affine=True)\n",
              "              (dropout): Dropout(p=0.1, inplace=False)\n",
              "            )\n",
              "          )\n",
              "          (intermediate): BertIntermediate(\n",
              "            (dense): Linear(in_features=768, out_features=3072, bias=True)\n",
              "            (intermediate_act_fn): GELUActivation()\n",
              "          )\n",
              "          (output): BertOutput(\n",
              "            (dense): Linear(in_features=3072, out_features=768, bias=True)\n",
              "            (LayerNorm): LayerNorm((768,), eps=1e-12, elementwise_affine=True)\n",
              "            (dropout): Dropout(p=0.1, inplace=False)\n",
              "          )\n",
              "        )\n",
              "      )\n",
              "    )\n",
              "    (pooler): BertPooler(\n",
              "      (dense): Linear(in_features=768, out_features=768, bias=True)\n",
              "      (activation): Tanh()\n",
              "    )\n",
              "  )\n",
              "  (dropout): Dropout(p=0.1, inplace=False)\n",
              "  (classifier): Linear(in_features=768, out_features=2, bias=True)\n",
              ")"
            ]
          },
          "execution_count": 9,
          "metadata": {},
          "output_type": "execute_result"
        }
      ],
      "source": [
        "model_bert.cuda()"
      ]
    },
    {
      "cell_type": "code",
      "execution_count": null,
      "metadata": {
        "colab": {
          "base_uri": "https://localhost:8080/"
        },
        "id": "kMh8iRm6jw0m",
        "outputId": "1826e4bc-68c6-4eb0-ebff-9c742d21ec6f"
      },
      "outputs": [
        {
          "name": "stdout",
          "output_type": "stream",
          "text": [
            " \n",
            " Epoch 1/4 \n",
            " Training....\n",
            "Average Training Loss = 0.42\n",
            "Running Evaluation....\n",
            "Accuracy : 0.82\n",
            " \n",
            " Epoch 2/4 \n",
            " Training....\n",
            "Average Training Loss = 0.28\n",
            "Running Evaluation....\n",
            "Accuracy : 0.82\n",
            " \n",
            " Epoch 3/4 \n",
            " Training....\n",
            "Average Training Loss = 0.17\n",
            "Running Evaluation....\n",
            "Accuracy : 0.83\n",
            " \n",
            " Epoch 4/4 \n",
            " Training....\n",
            "Average Training Loss = 0.09\n",
            "Running Evaluation....\n",
            "Accuracy : 0.82\n"
          ]
        }
      ],
      "source": [
        "\n",
        "training_stats=[]\n",
        "for epoch_i in range(0,epochs):\n",
        "    print(\" \\n Epoch {:}/{:} \\n Training....\".format(epoch_i+1,epochs))\n",
        "    total_train_loss=0\n",
        "    model_bert.train()\n",
        "\n",
        "    for step, batch in enumerate(train_dataloader):\n",
        "        b_input_ids = batch[0].cuda()\n",
        "        b_input_mask = batch[1].cuda()\n",
        "        b_labels = batch[2].cuda()\n",
        "\n",
        "        model_bert.zero_grad()\n",
        "\n",
        "        result = model_bert(b_input_ids,token_type_ids=None,\n",
        "                            attention_mask=b_input_mask,labels=b_labels,\n",
        "                            return_dict=True)\n",
        "        loss=result.loss\n",
        "        logits=result.logits\n",
        "\n",
        "        total_train_loss += loss.item()\n",
        "\n",
        "        loss.backward()\n",
        "\n",
        "        torch.nn.utils.clip_grad_norm_(model_bert.parameters(),1.0)\n",
        "\n",
        "        optimizer.step()\n",
        "        scheduler.step()\n",
        "\n",
        "    avg_train_loss = total_train_loss/len(train_dataloader)\n",
        "    print('Average Training Loss = {0:.2f}'.format(avg_train_loss))\n",
        "    print('Running Evaluation....')\n",
        "\n",
        "\n",
        "    model_bert.eval()\n",
        "    tot_eval_acc,tot_eval_loss,no_of_eval_steps = 0,0,0\n",
        "\n",
        "    for batch in val_dataloader:\n",
        "\n",
        "        b_input_ids = batch[0].cuda()\n",
        "        b_input_mask = batch[1].cuda()\n",
        "        b_labels = batch[2].cuda()\n",
        "\n",
        "        with torch.no_grad():\n",
        "            result = model_bert(b_input_ids,token_type_ids=None,\n",
        "                                attention_mask=b_input_mask,labels=b_labels,\n",
        "                                return_dict=True)\n",
        "\n",
        "        loss=result.loss\n",
        "        logits=result.logits\n",
        "\n",
        "        tot_eval_loss += loss.item()\n",
        "\n",
        "        logits=logits.detach().cpu().numpy()\n",
        "        label_ids = b_labels.to('cpu').numpy()\n",
        "\n",
        "        tot_eval_acc += flat_accuracy(logits,label_ids)\n",
        "\n",
        "    avg_val_acc = tot_eval_acc/len(val_dataloader)\n",
        "    print(\"Accuracy : {0:.2f}\".format(avg_val_acc))\n",
        "    avg_val_loss = tot_eval_loss / len(dev_set)\n",
        "\n",
        "    training_stats.append(\n",
        "        {\n",
        "            'epoch': epoch_i + 1,\n",
        "            'Training loss': avg_train_loss,\n",
        "            'Valid loss': avg_val_loss,\n",
        "            'Valid_acc': avg_val_acc,\n",
        "\n",
        "\n",
        "        }\n",
        "    )\n",
        "\n",
        "    avg_val_loss = tot_eval_loss/len(val_dataloader)"
      ]
    },
    {
      "cell_type": "code",
      "execution_count": null,
      "metadata": {
        "id": "Kpq25cuvj1hH"
      },
      "outputs": [],
      "source": [
        "model_path = path.join(project_folder, 'models', 'text.pth')\n",
        "model_bert.save_pretrained(model_path)"
      ]
    },
    {
      "cell_type": "markdown",
      "metadata": {
        "id": "ubTGaWu5685B"
      },
      "source": [
        "# Multimodal"
      ]
    },
    {
      "cell_type": "code",
      "execution_count": null,
      "metadata": {
        "id": "_23TxbKr68CX"
      },
      "outputs": [],
      "source": [
        "train_data['label'] = train_data['label'].apply(convert_label)\n",
        "test_data['label'] = test_data['label'].apply(convert_label)\n",
        "dev_data['label'] = dev_data['label'].apply(convert_label)"
      ]
    },
    {
      "cell_type": "code",
      "execution_count": null,
      "metadata": {
        "colab": {
          "base_uri": "https://localhost:8080/",
          "height": 652
        },
        "id": "XncWdZcp6f8C",
        "outputId": "d8e05f60-d5bb-4399-b77b-d959b6d51bfd"
      },
      "outputs": [
        {
          "data": {
            "text/html": [
              "\n",
              "  <div id=\"df-24da207e-c509-482f-a275-8b7e6aa8a6b4\">\n",
              "    <div class=\"colab-df-container\">\n",
              "      <div>\n",
              "<style scoped>\n",
              "    .dataframe tbody tr th:only-of-type {\n",
              "        vertical-align: middle;\n",
              "    }\n",
              "\n",
              "    .dataframe tbody tr th {\n",
              "        vertical-align: top;\n",
              "    }\n",
              "\n",
              "    .dataframe thead th {\n",
              "        text-align: right;\n",
              "    }\n",
              "</style>\n",
              "<table border=\"1\" class=\"dataframe\">\n",
              "  <thead>\n",
              "    <tr style=\"text-align: right;\">\n",
              "      <th></th>\n",
              "      <th>event_name</th>\n",
              "      <th>tweet_id</th>\n",
              "      <th>image_id</th>\n",
              "      <th>tweet_text</th>\n",
              "      <th>image</th>\n",
              "      <th>label</th>\n",
              "      <th>label_text</th>\n",
              "      <th>label_image</th>\n",
              "      <th>label_text_image</th>\n",
              "    </tr>\n",
              "  </thead>\n",
              "  <tbody>\n",
              "    <tr>\n",
              "      <th>0</th>\n",
              "      <td>california_wildfires</td>\n",
              "      <td>917791291823591425</td>\n",
              "      <td>917791291823591425_0</td>\n",
              "      <td>RT @Cal_OES: PLS SHARE: Weâ€™re capturing wild...</td>\n",
              "      <td>data_image/california_wildfires/10_10_2017/917...</td>\n",
              "      <td>1</td>\n",
              "      <td>informative</td>\n",
              "      <td>1</td>\n",
              "      <td>Positive</td>\n",
              "    </tr>\n",
              "    <tr>\n",
              "      <th>1</th>\n",
              "      <td>california_wildfires</td>\n",
              "      <td>917791291823591425</td>\n",
              "      <td>917791291823591425_1</td>\n",
              "      <td>RT @Cal_OES: PLS SHARE: Weâ€™re capturing wild...</td>\n",
              "      <td>data_image/california_wildfires/10_10_2017/917...</td>\n",
              "      <td>0</td>\n",
              "      <td>informative</td>\n",
              "      <td>0</td>\n",
              "      <td>Negative</td>\n",
              "    </tr>\n",
              "    <tr>\n",
              "      <th>2</th>\n",
              "      <td>california_wildfires</td>\n",
              "      <td>917793137925459968</td>\n",
              "      <td>917793137925459968_0</td>\n",
              "      <td>RT @KAKEnews: California wildfires destroy mor...</td>\n",
              "      <td>data_image/california_wildfires/10_10_2017/917...</td>\n",
              "      <td>1</td>\n",
              "      <td>informative</td>\n",
              "      <td>1</td>\n",
              "      <td>Positive</td>\n",
              "    </tr>\n",
              "    <tr>\n",
              "      <th>3</th>\n",
              "      <td>california_wildfires</td>\n",
              "      <td>917793137925459968</td>\n",
              "      <td>917793137925459968_1</td>\n",
              "      <td>RT @KAKEnews: California wildfires destroy mor...</td>\n",
              "      <td>data_image/california_wildfires/10_10_2017/917...</td>\n",
              "      <td>1</td>\n",
              "      <td>informative</td>\n",
              "      <td>1</td>\n",
              "      <td>Positive</td>\n",
              "    </tr>\n",
              "    <tr>\n",
              "      <th>4</th>\n",
              "      <td>california_wildfires</td>\n",
              "      <td>917793137925459968</td>\n",
              "      <td>917793137925459968_2</td>\n",
              "      <td>RT @KAKEnews: California wildfires destroy mor...</td>\n",
              "      <td>data_image/california_wildfires/10_10_2017/917...</td>\n",
              "      <td>1</td>\n",
              "      <td>informative</td>\n",
              "      <td>1</td>\n",
              "      <td>Positive</td>\n",
              "    </tr>\n",
              "  </tbody>\n",
              "</table>\n",
              "</div>\n",
              "      <button class=\"colab-df-convert\" onclick=\"convertToInteractive('df-24da207e-c509-482f-a275-8b7e6aa8a6b4')\"\n",
              "              title=\"Convert this dataframe to an interactive table.\"\n",
              "              style=\"display:none;\">\n",
              "        \n",
              "  <svg xmlns=\"http://www.w3.org/2000/svg\" height=\"24px\"viewBox=\"0 0 24 24\"\n",
              "       width=\"24px\">\n",
              "    <path d=\"M0 0h24v24H0V0z\" fill=\"none\"/>\n",
              "    <path d=\"M18.56 5.44l.94 2.06.94-2.06 2.06-.94-2.06-.94-.94-2.06-.94 2.06-2.06.94zm-11 1L8.5 8.5l.94-2.06 2.06-.94-2.06-.94L8.5 2.5l-.94 2.06-2.06.94zm10 10l.94 2.06.94-2.06 2.06-.94-2.06-.94-.94-2.06-.94 2.06-2.06.94z\"/><path d=\"M17.41 7.96l-1.37-1.37c-.4-.4-.92-.59-1.43-.59-.52 0-1.04.2-1.43.59L10.3 9.45l-7.72 7.72c-.78.78-.78 2.05 0 2.83L4 21.41c.39.39.9.59 1.41.59.51 0 1.02-.2 1.41-.59l7.78-7.78 2.81-2.81c.8-.78.8-2.07 0-2.86zM5.41 20L4 18.59l7.72-7.72 1.47 1.35L5.41 20z\"/>\n",
              "  </svg>\n",
              "      </button>\n",
              "      \n",
              "  <style>\n",
              "    .colab-df-container {\n",
              "      display:flex;\n",
              "      flex-wrap:wrap;\n",
              "      gap: 12px;\n",
              "    }\n",
              "\n",
              "    .colab-df-convert {\n",
              "      background-color: #E8F0FE;\n",
              "      border: none;\n",
              "      border-radius: 50%;\n",
              "      cursor: pointer;\n",
              "      display: none;\n",
              "      fill: #1967D2;\n",
              "      height: 32px;\n",
              "      padding: 0 0 0 0;\n",
              "      width: 32px;\n",
              "    }\n",
              "\n",
              "    .colab-df-convert:hover {\n",
              "      background-color: #E2EBFA;\n",
              "      box-shadow: 0px 1px 2px rgba(60, 64, 67, 0.3), 0px 1px 3px 1px rgba(60, 64, 67, 0.15);\n",
              "      fill: #174EA6;\n",
              "    }\n",
              "\n",
              "    [theme=dark] .colab-df-convert {\n",
              "      background-color: #3B4455;\n",
              "      fill: #D2E3FC;\n",
              "    }\n",
              "\n",
              "    [theme=dark] .colab-df-convert:hover {\n",
              "      background-color: #434B5C;\n",
              "      box-shadow: 0px 1px 3px 1px rgba(0, 0, 0, 0.15);\n",
              "      filter: drop-shadow(0px 1px 2px rgba(0, 0, 0, 0.3));\n",
              "      fill: #FFFFFF;\n",
              "    }\n",
              "  </style>\n",
              "\n",
              "      <script>\n",
              "        const buttonEl =\n",
              "          document.querySelector('#df-24da207e-c509-482f-a275-8b7e6aa8a6b4 button.colab-df-convert');\n",
              "        buttonEl.style.display =\n",
              "          google.colab.kernel.accessAllowed ? 'block' : 'none';\n",
              "\n",
              "        async function convertToInteractive(key) {\n",
              "          const element = document.querySelector('#df-24da207e-c509-482f-a275-8b7e6aa8a6b4');\n",
              "          const dataTable =\n",
              "            await google.colab.kernel.invokeFunction('convertToInteractive',\n",
              "                                                     [key], {});\n",
              "          if (!dataTable) return;\n",
              "\n",
              "          const docLinkHtml = 'Like what you see? Visit the ' +\n",
              "            '<a target=\"_blank\" href=https://colab.research.google.com/notebooks/data_table.ipynb>data table notebook</a>'\n",
              "            + ' to learn more about interactive tables.';\n",
              "          element.innerHTML = '';\n",
              "          dataTable['output_type'] = 'display_data';\n",
              "          await google.colab.output.renderOutput(dataTable, element);\n",
              "          const docLink = document.createElement('div');\n",
              "          docLink.innerHTML = docLinkHtml;\n",
              "          element.appendChild(docLink);\n",
              "        }\n",
              "      </script>\n",
              "    </div>\n",
              "  </div>\n",
              "  "
            ],
            "text/plain": [
              "             event_name            tweet_id              image_id  \\\n",
              "0  california_wildfires  917791291823591425  917791291823591425_0   \n",
              "1  california_wildfires  917791291823591425  917791291823591425_1   \n",
              "2  california_wildfires  917793137925459968  917793137925459968_0   \n",
              "3  california_wildfires  917793137925459968  917793137925459968_1   \n",
              "4  california_wildfires  917793137925459968  917793137925459968_2   \n",
              "\n",
              "                                          tweet_text  \\\n",
              "0  RT @Cal_OES: PLS SHARE: Weâ€™re capturing wild...   \n",
              "1  RT @Cal_OES: PLS SHARE: Weâ€™re capturing wild...   \n",
              "2  RT @KAKEnews: California wildfires destroy mor...   \n",
              "3  RT @KAKEnews: California wildfires destroy mor...   \n",
              "4  RT @KAKEnews: California wildfires destroy mor...   \n",
              "\n",
              "                                               image  label   label_text  \\\n",
              "0  data_image/california_wildfires/10_10_2017/917...      1  informative   \n",
              "1  data_image/california_wildfires/10_10_2017/917...      0  informative   \n",
              "2  data_image/california_wildfires/10_10_2017/917...      1  informative   \n",
              "3  data_image/california_wildfires/10_10_2017/917...      1  informative   \n",
              "4  data_image/california_wildfires/10_10_2017/917...      1  informative   \n",
              "\n",
              "   label_image label_text_image  \n",
              "0            1         Positive  \n",
              "1            0         Negative  \n",
              "2            1         Positive  \n",
              "3            1         Positive  \n",
              "4            1         Positive  "
            ]
          },
          "execution_count": 9,
          "metadata": {},
          "output_type": "execute_result"
        }
      ],
      "source": [
        "train_data.head()"
      ]
    },
    {
      "cell_type": "code",
      "execution_count": null,
      "metadata": {
        "id": "t0DES81_Lqu8"
      },
      "outputs": [],
      "source": [
        "from functools import reduce\n",
        "class ImageTextDataset(Dataset):\n",
        "    def __init__(self, data_set, image_dir = image_path, transform = None):\n",
        "        self.image_dir = image_dir\n",
        "        self.data = data_set\n",
        "        self.transform = transform\n",
        "\n",
        "    def __getitem__(self, index):\n",
        "        row = self.data.iloc[index]\n",
        "        image_path = path.join(self.image_dir, row['image'])\n",
        "        label = row['label']\n",
        "\n",
        "        # Load Image\n",
        "        image = Image.open(image_path)\n",
        "        image = image.resize((IMAGE_WIDTH, IMAGE_HEIGHT))\n",
        "        image = image.convert('RGB')\n",
        "\n",
        "        label_tensor = torch.tensor(label)\n",
        "        image = self.transform(image)\n",
        "\n",
        "        # Load text\n",
        "        text = row['tweet_text']\n",
        "        encoded_dict = tokenizer.encode_plus(\n",
        "            text, add_special_tokens=True,\n",
        "            max_length=64, pad_to_max_length=True,\n",
        "            return_attention_mask=True,\n",
        "            return_tensors='pt'\n",
        "        )\n",
        "        input_ids = encoded_dict['input_ids']\n",
        "        attention_mask = encoded_dict['attention_mask']\n",
        "        return (input_ids, attention_mask, image, label_tensor)\n",
        "\n",
        "    def __len__(self):\n",
        "        return len(self.data)\n",
        "\n",
        "train_data = ImageTextDataset(train_data, image_dir = image_path, transform = transform)\n",
        "test_data = ImageTextDataset(test_data, image_dir = image_path, transform = transform)\n",
        "val_data = ImageTextDataset(dev_data, image_dir = image_path, transform = transform)"
      ]
    },
    {
      "cell_type": "code",
      "execution_count": null,
      "metadata": {
        "id": "Lybj6poYX3f0"
      },
      "outputs": [],
      "source": [
        "BATCH_SIZE = 32\n",
        "train_loader = DataLoader(train_data, batch_size=BATCH_SIZE,\n",
        "                          shuffle=False, num_workers=2, pin_memory = True)\n",
        "\n",
        "test_loader = DataLoader(test_data, batch_size=BATCH_SIZE,\n",
        "                          shuffle=True, num_workers=2, pin_memory = True)"
      ]
    },
    {
      "cell_type": "code",
      "execution_count": null,
      "metadata": {
        "colab": {
          "base_uri": "https://localhost:8080/"
        },
        "id": "4yWUvUv3mP4s",
        "outputId": "53091893-7f32-4851-faf3-df202e82a45f"
      },
      "outputs": [
        {
          "name": "stdout",
          "output_type": "stream",
          "text": [
            "Looking in indexes: https://pypi.org/simple, https://us-python.pkg.dev/colab-wheels/public/simple/\n",
            "Collecting transformers\n",
            "  Downloading transformers-4.28.1-py3-none-any.whl (7.0 MB)\n",
            "\u001b[2K     \u001b[90m━━━━━━━━━━━━━━━━━━━━━━━━━━━━━━━━━━━━━━━━\u001b[0m \u001b[32m7.0/7.0 MB\u001b[0m \u001b[31m67.8 MB/s\u001b[0m eta \u001b[36m0:00:00\u001b[0m\n",
            "\u001b[?25hRequirement already satisfied: pyyaml>=5.1 in /usr/local/lib/python3.10/dist-packages (from transformers) (6.0)\n",
            "Requirement already satisfied: numpy>=1.17 in /usr/local/lib/python3.10/dist-packages (from transformers) (1.22.4)\n",
            "Requirement already satisfied: filelock in /usr/local/lib/python3.10/dist-packages (from transformers) (3.12.0)\n",
            "Requirement already satisfied: regex!=2019.12.17 in /usr/local/lib/python3.10/dist-packages (from transformers) (2022.10.31)\n",
            "Collecting huggingface-hub<1.0,>=0.11.0\n",
            "  Downloading huggingface_hub-0.14.1-py3-none-any.whl (224 kB)\n",
            "\u001b[2K     \u001b[90m━━━━━━━━━━━━━━━━━━━━━━━━━━━━━━━━━━━━━━\u001b[0m \u001b[32m224.5/224.5 kB\u001b[0m \u001b[31m28.8 MB/s\u001b[0m eta \u001b[36m0:00:00\u001b[0m\n",
            "\u001b[?25hRequirement already satisfied: packaging>=20.0 in /usr/local/lib/python3.10/dist-packages (from transformers) (23.1)\n",
            "Requirement already satisfied: requests in /usr/local/lib/python3.10/dist-packages (from transformers) (2.27.1)\n",
            "Requirement already satisfied: tqdm>=4.27 in /usr/local/lib/python3.10/dist-packages (from transformers) (4.65.0)\n",
            "Collecting tokenizers!=0.11.3,<0.14,>=0.11.1\n",
            "  Downloading tokenizers-0.13.3-cp310-cp310-manylinux_2_17_x86_64.manylinux2014_x86_64.whl (7.8 MB)\n",
            "\u001b[2K     \u001b[90m━━━━━━━━━━━━━━━━━━━━━━━━━━━━━━━━━━━━━━━━\u001b[0m \u001b[32m7.8/7.8 MB\u001b[0m \u001b[31m107.0 MB/s\u001b[0m eta \u001b[36m0:00:00\u001b[0m\n",
            "\u001b[?25hRequirement already satisfied: typing-extensions>=3.7.4.3 in /usr/local/lib/python3.10/dist-packages (from huggingface-hub<1.0,>=0.11.0->transformers) (4.5.0)\n",
            "Requirement already satisfied: fsspec in /usr/local/lib/python3.10/dist-packages (from huggingface-hub<1.0,>=0.11.0->transformers) (2023.4.0)\n",
            "Requirement already satisfied: charset-normalizer~=2.0.0 in /usr/local/lib/python3.10/dist-packages (from requests->transformers) (2.0.12)\n",
            "Requirement already satisfied: certifi>=2017.4.17 in /usr/local/lib/python3.10/dist-packages (from requests->transformers) (2022.12.7)\n",
            "Requirement already satisfied: urllib3<1.27,>=1.21.1 in /usr/local/lib/python3.10/dist-packages (from requests->transformers) (1.26.15)\n",
            "Requirement already satisfied: idna<4,>=2.5 in /usr/local/lib/python3.10/dist-packages (from requests->transformers) (3.4)\n",
            "Installing collected packages: tokenizers, huggingface-hub, transformers\n",
            "Successfully installed huggingface-hub-0.14.1 tokenizers-0.13.3 transformers-4.28.1\n"
          ]
        }
      ],
      "source": [
        "pip install transformers"
      ]
    },
    {
      "cell_type": "code",
      "execution_count": null,
      "metadata": {
        "colab": {
          "base_uri": "https://localhost:8080/",
          "height": 113,
          "referenced_widgets": [
            "dd5f4e2c729d4d7f99002a19d2deb0e4",
            "87e40791d39b42e9a5a6fb7e4ef87f57",
            "41f83248f2794acb94ff16dbba3d8594",
            "59dfeb36565d498eb6d6cf7e7f61279c",
            "f6bcba86aaf14484bb764b606f463c25",
            "d9b8d6a5412240de96725c5adf805df6",
            "97b6a0a6edcf4e57bc03e45fbc960c83",
            "0af1ce4a7a944d9bbff12a17057311f4",
            "bada5d0b8910489e9faf068f49112dce",
            "5acb01f1ebcc4b2aa3fddf22703b4839",
            "a1d28021963f4affafe2d1d81b878f41",
            "c9958594ed854684953c7da926695d84",
            "c201adc86d4d4a17b15b4eefed8979d1",
            "5517cdd6c8c447a0b8c4ae94e984a414",
            "6977fcc11dd245edbfc9e68236124f96"
          ]
        },
        "id": "nDlL7F7vZTOQ",
        "outputId": "4fc03d4d-211a-46f3-c70f-5d4f6206e2fb"
      },
      "outputs": [
        {
          "data": {
            "application/vnd.jupyter.widget-view+json": {
              "model_id": "dd5f4e2c729d4d7f99002a19d2deb0e4",
              "version_major": 2,
              "version_minor": 0
            },
            "text/plain": [
              "Downloading (…)solve/main/vocab.txt:   0%|          | 0.00/232k [00:00<?, ?B/s]"
            ]
          },
          "metadata": {},
          "output_type": "display_data"
        },
        {
          "data": {
            "application/vnd.jupyter.widget-view+json": {
              "model_id": "87e40791d39b42e9a5a6fb7e4ef87f57",
              "version_major": 2,
              "version_minor": 0
            },
            "text/plain": [
              "Downloading (…)okenizer_config.json:   0%|          | 0.00/28.0 [00:00<?, ?B/s]"
            ]
          },
          "metadata": {},
          "output_type": "display_data"
        },
        {
          "data": {
            "application/vnd.jupyter.widget-view+json": {
              "model_id": "41f83248f2794acb94ff16dbba3d8594",
              "version_major": 2,
              "version_minor": 0
            },
            "text/plain": [
              "Downloading (…)lve/main/config.json:   0%|          | 0.00/570 [00:00<?, ?B/s]"
            ]
          },
          "metadata": {},
          "output_type": "display_data"
        }
      ],
      "source": [
        "from transformers import BertModel\n",
        "import torch.nn.functional as F\n",
        "import transformers\n",
        "\n",
        "tokenizer = transformers.BertTokenizer.from_pretrained('bert-base-uncased', do_lower_case=True)\n",
        "\n",
        "class ImageTextModel(nn.Module):\n",
        "  def __init__(self):\n",
        "    super(ImageTextModel, self).__init__()\n",
        "    self.bert = BertModel.from_pretrained(path.join(project_folder, 'models', 'text.pth'))\n",
        "    self.resnet = ResNetWithFC(num_classes=2)\n",
        "    self.resnet.load_state_dict(torch.load(path.join(project_folder, 'models', 'image.pth')))\n",
        "\n",
        "    self.fc1 = nn.Linear(770, 256)\n",
        "    self.fc2 = nn.Linear(256, 128)\n",
        "    self.fc3 = nn.Linear(128, 2)\n",
        "    self.softmax = nn.Softmax(dim=1)\n",
        "\n",
        "  def forward(self, input_ids, attention_masks, image_tensors):\n",
        "\n",
        "        # ResNet50\n",
        "        with torch.no_grad():\n",
        "            resnet_output = self.resnet(image_tensors)\n",
        "\n",
        "        # BERT\n",
        "        bert_output = self.bert(input_ids=input_ids, attention_mask=attention_masks)[1]\n",
        "\n",
        "        # Concatenate the BERT and ResNet50 outputs\n",
        "        combined_output = torch.cat((bert_output, resnet_output), dim=1)\n",
        "        #combined_output = combined_output.squeeze(dim=770)\n",
        "        # Fully connected layers\n",
        "        x = F.relu(self.fc1(combined_output))\n",
        "        x = self.fc2(x)\n",
        "        output = self.fc3(x)\n",
        "        output = self.softmax(output)\n",
        "\n",
        "        return output"
      ]
    },
    {
      "cell_type": "code",
      "execution_count": null,
      "metadata": {
        "colab": {
          "base_uri": "https://localhost:8080/"
        },
        "id": "PM6LZJ86lDK2",
        "outputId": "aade11cf-7de7-4f33-a45c-7b7ed3ec2d11"
      },
      "outputs": [
        {
          "name": "stdout",
          "output_type": "stream",
          "text": [
            "Some weights of the model checkpoint at path/to/fine_tuned_bert were not used when initializing BertModel: ['classifier.bias', 'classifier.weight']\n",
            "- This IS expected if you are initializing BertModel from the checkpoint of a model trained on another task or with another architecture (e.g. initializing a BertForSequenceClassification model from a BertForPreTraining model).\n",
            "- This IS NOT expected if you are initializing BertModel from the checkpoint of a model that you expect to be exactly identical (initializing a BertForSequenceClassification model from a BertForSequenceClassification model).\n",
            "Epoch 1/5_____Training..........\n",
            "Average Training Loss = 1.87 \n",
            "Running Evaluation...\n",
            "Validation Accuracy: 96.06%\n",
            "Epoch 2/5_____Training..........\n",
            "Average Training Loss = 1.62 \n",
            "Running Evaluation...\n",
            "Validation Accuracy: 95.80%\n",
            "Epoch 3/5_____Training..........\n",
            "Average Training Loss = 1.37 \n",
            "Running Evaluation...\n",
            "Validation Accuracy: 95.54%\n",
            "Epoch 4/5_____Training..........\n",
            "Average Training Loss = 1.25 \n",
            "Running Evaluation...\n",
            "Validation Accuracy: 96.33%\n",
            "Epoch 5/5_____Training..........\n",
            "Average Training Loss = 1.21\n",
            "Running Evaluation...\n",
            "Validation Accuracy: 97.64%\n"
          ]
        }
      ],
      "source": [
        "from torch.utils.data import DataLoader\n",
        "import torch.optim as optim\n",
        "\n",
        "\n",
        "train_data, test_data, val_data\n",
        "batch_size = 32\n",
        "train_dataloader = DataLoader(train_data, batch_size=batch_size, shuffle=True)\n",
        "test_dataloader = DataLoader(test_data, batch_size=batch_size, shuffle=False)\n",
        "val_dataloader = DataLoader(val_data, batch_size=batch_size, shuffle=False)\n",
        "\n",
        "# Initialize the model\n",
        "model = ImageTextModel()\n",
        "model.cuda()\n",
        "# Define the loss function and optimizer\n",
        "criterion = nn.CrossEntropyLoss()\n",
        "optimizer = optim.Adam(model.parameters(), lr=1e-5)\n",
        "stats=[]\n",
        "# Train the model for a specified number of epochs\n",
        "num_epochs = 5\n",
        "for epoch in range(num_epochs):\n",
        "    print(\"\\nEpoch {}/{}_____Training..........\".format(epoch+1, num_epochs))\n",
        "\n",
        "    total_train_loss=0\n",
        "    # Set the model to train mode\n",
        "    model.train()\n",
        "\n",
        "    # Iterate over the batches in the training data\n",
        "    for batch in train_dataloader:\n",
        "\n",
        "        # Extract the inputs and targets\n",
        "        input_ids = batch[0].cuda()\n",
        "        attention_masks = batch[1].cuda()\n",
        "        image_data = batch[2].cuda()\n",
        "        targets = batch[3].cuda()\n",
        "\n",
        "        # Zero the gradients\n",
        "        optimizer.zero_grad()\n",
        "        input_ids = input_ids.squeeze(dim=1)\n",
        "        attention_masks = attention_masks.squeeze(dim=1)\n",
        "        # Compute the model's predictions\n",
        "        outputs = model(input_ids, attention_masks, image_data)\n",
        "\n",
        "        # Compute the loss\n",
        "        loss = criterion(outputs, targets)\n",
        "\n",
        "        total_train_loss += loss.item()\n",
        "        # Compute the gradients\n",
        "        loss.backward()\n",
        "\n",
        "        # Update the parameters\n",
        "        optimizer.step()\n",
        "\n",
        "    avg_train_loss = total_train_loss/len(train_dataloader)\n",
        "    print('Average Training Loss = {0:.2f} '.format(avg_train_loss))\n",
        "    print('Running Evaluation...')\n",
        "    # Set the model to evaluation mode\n",
        "    model.eval()\n",
        "\n",
        "    # Compute the validation accuracy\n",
        "    with torch.no_grad():\n",
        "        correct = 0\n",
        "        total = 0\n",
        "        for batch in val_dataloader:\n",
        "            input_ids = batch[0].cuda()\n",
        "            attention_masks = batch[1].cuda()\n",
        "            image_data = batch[2].cuda()\n",
        "            targets = batch[3].cuda()\n",
        "            input_ids = input_ids.squeeze(dim=1)\n",
        "            attention_masks = attention_masks.squeeze(dim=1)\n",
        "            outputs = model(input_ids, attention_masks, image_data)\n",
        "            _, predicted = torch.max(outputs.data, 1)\n",
        "            total += targets.size(0)\n",
        "            correct += (predicted == targets).sum().item()\n",
        "        val_acc = 100 * correct / total\n",
        "\n",
        "    # Print the loss and validation accuracy for each epoch\n",
        "    print('Validation Accuracy: {:.2f}%'.format(val_acc))\n",
        "    stats.append(\n",
        "        {\n",
        "            'epoch': epoch + 1,\n",
        "            'training_loss': avg_train_loss,\n",
        "            'val_acc': val_acc,\n",
        "        }\n",
        "    )\n",
        "\n"
      ]
    },
    {
      "cell_type": "code",
      "execution_count": null,
      "metadata": {
        "id": "DJi7x_aXce9z"
      },
      "outputs": [],
      "source": []
    }
  ],
  "metadata": {
    "accelerator": "GPU",
    "colab": {
      "provenance": []
    },
    "gpuClass": "standard",
    "kernelspec": {
      "display_name": "Python 3",
      "name": "python3"
    },
    "language_info": {
      "name": "python"
    },
    "widgets": {
      "application/vnd.jupyter.widget-state+json": {
        "41f83248f2794acb94ff16dbba3d8594": {
          "model_module": "@jupyter-widgets/controls",
          "model_module_version": "1.5.0",
          "model_name": "HBoxModel",
          "state": {
            "_dom_classes": [],
            "_model_module": "@jupyter-widgets/controls",
            "_model_module_version": "1.5.0",
            "_model_name": "HBoxModel",
            "_view_count": null,
            "_view_module": "@jupyter-widgets/controls",
            "_view_module_version": "1.5.0",
            "_view_name": "HBoxView",
            "box_style": "",
            "children": [
              "IPY_MODEL_c9958594ed854684953c7da926695d84",
              "IPY_MODEL_c201adc86d4d4a17b15b4eefed8979d1",
              "IPY_MODEL_5517cdd6c8c447a0b8c4ae94e984a414"
            ],
            "layout": "IPY_MODEL_6977fcc11dd245edbfc9e68236124f96"
          }
        },
        "87e40791d39b42e9a5a6fb7e4ef87f57": {
          "model_module": "@jupyter-widgets/controls",
          "model_module_version": "1.5.0",
          "model_name": "HBoxModel",
          "state": {
            "_dom_classes": [],
            "_model_module": "@jupyter-widgets/controls",
            "_model_module_version": "1.5.0",
            "_model_name": "HBoxModel",
            "_view_count": null,
            "_view_module": "@jupyter-widgets/controls",
            "_view_module_version": "1.5.0",
            "_view_name": "HBoxView",
            "box_style": "",
            "children": [
              "IPY_MODEL_0af1ce4a7a944d9bbff12a17057311f4",
              "IPY_MODEL_bada5d0b8910489e9faf068f49112dce",
              "IPY_MODEL_5acb01f1ebcc4b2aa3fddf22703b4839"
            ],
            "layout": "IPY_MODEL_a1d28021963f4affafe2d1d81b878f41"
          }
        },
        "dd5f4e2c729d4d7f99002a19d2deb0e4": {
          "model_module": "@jupyter-widgets/controls",
          "model_module_version": "1.5.0",
          "model_name": "HBoxModel",
          "state": {
            "_dom_classes": [],
            "_model_module": "@jupyter-widgets/controls",
            "_model_module_version": "1.5.0",
            "_model_name": "HBoxModel",
            "_view_count": null,
            "_view_module": "@jupyter-widgets/controls",
            "_view_module_version": "1.5.0",
            "_view_name": "HBoxView",
            "box_style": "",
            "children": [
              "IPY_MODEL_59dfeb36565d498eb6d6cf7e7f61279c",
              "IPY_MODEL_f6bcba86aaf14484bb764b606f463c25",
              "IPY_MODEL_d9b8d6a5412240de96725c5adf805df6"
            ],
            "layout": "IPY_MODEL_97b6a0a6edcf4e57bc03e45fbc960c83"
          }
        }
      }
    }
  },
  "nbformat": 4,
  "nbformat_minor": 0
}